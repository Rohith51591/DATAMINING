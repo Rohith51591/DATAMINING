{
  "nbformat": 4,
  "nbformat_minor": 0,
  "metadata": {
    "colab": {
      "provenance": [],
      "authorship_tag": "ABX9TyNztF5/ONEM6vhXwWUONXk9",
      "include_colab_link": true
    },
    "kernelspec": {
      "name": "python3",
      "display_name": "Python 3"
    },
    "language_info": {
      "name": "python"
    }
  },
  "cells": [
    {
      "cell_type": "markdown",
      "metadata": {
        "id": "view-in-github",
        "colab_type": "text"
      },
      "source": [
        "<a href=\"https://colab.research.google.com/github/Rohith51591/DATAMINING/blob/main/Test__4_24_02_2025.ipynb\" target=\"_parent\"><img src=\"https://colab.research.google.com/assets/colab-badge.svg\" alt=\"Open In Colab\"/></a>"
      ]
    },
    {
      "cell_type": "code",
      "execution_count": null,
      "metadata": {
        "id": "HwXX0P9gMua6"
      },
      "outputs": [],
      "source": [
        "import pandas as pd\n",
        "import numpy as np\n",
        "from sklearn.decomposition import PCA\n",
        "from sklearn.preprocessing import StandardScaler"
      ]
    },
    {
      "cell_type": "code",
      "source": [
        "data = pd.DataFrame({\n",
        "    'Feature1': np.random.rand(10),\n",
        "    'Feature2': np.random.rand(10),\n",
        "    'Feature3': np.random.rand(10),\n",
        "    'Feature4': np.random.rand(10)\n",
        "})"
      ],
      "metadata": {
        "id": "dsU3MGroN-2w"
      },
      "execution_count": null,
      "outputs": []
    },
    {
      "cell_type": "code",
      "source": [
        "scaler = StandardScaler()\n",
        "data_scaled = scaler.fit_transform(data)\n"
      ],
      "metadata": {
        "id": "60TI-FNmOCeO"
      },
      "execution_count": null,
      "outputs": []
    },
    {
      "cell_type": "code",
      "source": [
        "pca = PCA(n_components=2)  # Choose number of principal components\n",
        "principal_components = pca.fit_transform(data_scaled)\n"
      ],
      "metadata": {
        "id": "LGs0gdWAOGpm"
      },
      "execution_count": null,
      "outputs": []
    },
    {
      "cell_type": "code",
      "source": [
        "pca_df = pd.DataFrame(data=principal_components, columns=['PC1', 'PC2'])\n"
      ],
      "metadata": {
        "id": "CIhLE8huOLvo"
      },
      "execution_count": null,
      "outputs": []
    },
    {
      "cell_type": "code",
      "source": [
        "explained_variance = pca.explained_variance_ratio_\n"
      ],
      "metadata": {
        "id": "a0arCXndOUJe"
      },
      "execution_count": null,
      "outputs": []
    },
    {
      "cell_type": "code",
      "source": [
        "print(\"Principal Components:\\n\", pca_df)\n",
        "print(\"\\nExplained Variance Ratio:\", explained_variance)"
      ],
      "metadata": {
        "colab": {
          "base_uri": "https://localhost:8080/"
        },
        "id": "Gwfysh4pOV7O",
        "outputId": "4338d367-5e3c-4e6e-e63e-7293cc1f1a95"
      },
      "execution_count": null,
      "outputs": [
        {
          "output_type": "stream",
          "name": "stdout",
          "text": [
            "Principal Components:\n",
            "         PC1       PC2\n",
            "0 -0.068953  0.278789\n",
            "1 -0.490377 -1.713404\n",
            "2  1.503113 -0.799854\n",
            "3 -1.126517  0.272162\n",
            "4  1.312662  0.132112\n",
            "5  0.962420 -0.749436\n",
            "6 -2.882006 -0.967551\n",
            "7  0.108635  1.008681\n",
            "8  1.599092  0.265450\n",
            "9 -0.918068  2.273051\n",
            "\n",
            "Explained Variance Ratio: [0.45351628 0.28743104]\n"
          ]
        }
      ]
    }
  ]
}