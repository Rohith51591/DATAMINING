{
  "nbformat": 4,
  "nbformat_minor": 0,
  "metadata": {
    "colab": {
      "provenance": [],
      "authorship_tag": "ABX9TyPfKhKtbVANnTnHisJMSsXv",
      "include_colab_link": true
    },
    "kernelspec": {
      "name": "python3",
      "display_name": "Python 3"
    },
    "language_info": {
      "name": "python"
    }
  },
  "cells": [
    {
      "cell_type": "markdown",
      "metadata": {
        "id": "view-in-github",
        "colab_type": "text"
      },
      "source": [
        "<a href=\"https://colab.research.google.com/github/Rohith51591/DATAMINING/blob/main/Assignment__ADM_LAB1.ipynb\" target=\"_parent\"><img src=\"https://colab.research.google.com/assets/colab-badge.svg\" alt=\"Open In Colab\"/></a>"
      ]
    },
    {
      "cell_type": "code",
      "source": [
        "import pandas as pd\n",
        "data=pd.read_csv('/content/_titanic.csv')\n"
      ],
      "metadata": {
        "id": "tORI7qrnth5j"
      },
      "execution_count": 3,
      "outputs": []
    },
    {
      "cell_type": "code",
      "source": [
        "print(\"dataset info:\")\n",
        "print(data.info())"
      ],
      "metadata": {
        "id": "piFgI002xC3y",
        "colab": {
          "base_uri": "https://localhost:8080/"
        },
        "outputId": "355d6bdd-f310-45d8-964c-0cd76b417a29"
      },
      "execution_count": 5,
      "outputs": [
        {
          "output_type": "stream",
          "name": "stdout",
          "text": [
            "dataset info:\n",
            "<class 'pandas.core.frame.DataFrame'>\n",
            "RangeIndex: 891 entries, 0 to 890\n",
            "Data columns (total 12 columns):\n",
            " #   Column       Non-Null Count  Dtype  \n",
            "---  ------       --------------  -----  \n",
            " 0   PassengerId  891 non-null    int64  \n",
            " 1   Survived     891 non-null    int64  \n",
            " 2   Pclass       891 non-null    int64  \n",
            " 3   Name         891 non-null    object \n",
            " 4   Sex          891 non-null    object \n",
            " 5   Age          714 non-null    float64\n",
            " 6   SibSp        891 non-null    int64  \n",
            " 7   Parch        891 non-null    int64  \n",
            " 8   Ticket       891 non-null    object \n",
            " 9   Fare         891 non-null    float64\n",
            " 10  Cabin        204 non-null    object \n",
            " 11  Embarked     889 non-null    object \n",
            "dtypes: float64(2), int64(5), object(5)\n",
            "memory usage: 83.7+ KB\n",
            "None\n"
          ]
        }
      ]
    },
    {
      "cell_type": "code",
      "source": [],
      "metadata": {
        "id": "PRVqxrNd5IYi"
      },
      "execution_count": null,
      "outputs": []
    },
    {
      "cell_type": "code",
      "source": [
        "print(\"\\nNull Values:\")\n",
        "print(data.isnull().sum())"
      ],
      "metadata": {
        "colab": {
          "base_uri": "https://localhost:8080/"
        },
        "id": "Xt3ICMTJ2Vcz",
        "outputId": "e860246e-2de4-4cd3-98a0-74358f3ec1e9"
      },
      "execution_count": 6,
      "outputs": [
        {
          "output_type": "stream",
          "name": "stdout",
          "text": [
            "\n",
            "Null Values:\n",
            "PassengerId      0\n",
            "Survived         0\n",
            "Pclass           0\n",
            "Name             0\n",
            "Sex              0\n",
            "Age            177\n",
            "SibSp            0\n",
            "Parch            0\n",
            "Ticket           0\n",
            "Fare             0\n",
            "Cabin          687\n",
            "Embarked         2\n",
            "dtype: int64\n"
          ]
        }
      ]
    },
    {
      "cell_type": "code",
      "source": [
        "numerical_cols = data.select_dtypes(include=['float64','int64'])"
      ],
      "metadata": {
        "id": "mzfNTT-Y2hrc"
      },
      "execution_count": 7,
      "outputs": []
    },
    {
      "cell_type": "code",
      "source": [
        "print(\"\\nStatistics:\")\n",
        "print(\"Mean:\")\n",
        "print(numerical_cols.mean())"
      ],
      "metadata": {
        "colab": {
          "base_uri": "https://localhost:8080/"
        },
        "id": "W1arRXoi2z7P",
        "outputId": "6417f52e-6e9e-4ffa-d455-10784257b2bf"
      },
      "execution_count": 9,
      "outputs": [
        {
          "output_type": "stream",
          "name": "stdout",
          "text": [
            "\n",
            "Statistics:\n",
            "Mean:\n",
            "PassengerId    446.000000\n",
            "Survived         0.383838\n",
            "Pclass           2.308642\n",
            "Age             29.699118\n",
            "SibSp            0.523008\n",
            "Parch            0.381594\n",
            "Fare            32.204208\n",
            "dtype: float64\n"
          ]
        }
      ]
    },
    {
      "cell_type": "code",
      "source": [
        "print(\"\\nMedian:\")\n",
        "print(numerical_cols.median())"
      ],
      "metadata": {
        "colab": {
          "base_uri": "https://localhost:8080/"
        },
        "id": "raFj8zg_3e0V",
        "outputId": "101f8d25-8ed2-412b-b308-535771708d53"
      },
      "execution_count": 10,
      "outputs": [
        {
          "output_type": "stream",
          "name": "stdout",
          "text": [
            "\n",
            "Median:\n",
            "PassengerId    446.0000\n",
            "Survived         0.0000\n",
            "Pclass           3.0000\n",
            "Age             28.0000\n",
            "SibSp            0.0000\n",
            "Parch            0.0000\n",
            "Fare            14.4542\n",
            "dtype: float64\n"
          ]
        }
      ]
    },
    {
      "cell_type": "code",
      "source": [
        "print(\"\\nMode:\")\n",
        "print(numerical_cols.mode().iloc[0])\n"
      ],
      "metadata": {
        "colab": {
          "base_uri": "https://localhost:8080/"
        },
        "id": "YTlRM-_h3wg-",
        "outputId": "2812bf9b-8976-4b7d-f48e-40ec176bc878"
      },
      "execution_count": 11,
      "outputs": [
        {
          "output_type": "stream",
          "name": "stdout",
          "text": [
            "\n",
            "Mode:\n",
            "PassengerId     1.00\n",
            "Survived        0.00\n",
            "Pclass          3.00\n",
            "Age            24.00\n",
            "SibSp           0.00\n",
            "Parch           0.00\n",
            "Fare            8.05\n",
            "Name: 0, dtype: float64\n"
          ]
        }
      ]
    },
    {
      "cell_type": "code",
      "source": [
        "normalized_data = (numerical_cols - numerical_cols.min())/(numerical_cols.max()- numerical_cols.min())\n",
        "print(\"\\nNormalized Data (first 5 rows):\")\n",
        "print(normalized_data.head())"
      ],
      "metadata": {
        "colab": {
          "base_uri": "https://localhost:8080/"
        },
        "id": "x5iPGclE3738",
        "outputId": "40350874-fab7-4079-a6cf-1d888de6ad46"
      },
      "execution_count": 13,
      "outputs": [
        {
          "output_type": "stream",
          "name": "stdout",
          "text": [
            "\n",
            "Normalized Data (first 5 rows):\n",
            "   PassengerId  Survived  Pclass       Age  SibSp  Parch      Fare\n",
            "0     0.000000       0.0     1.0  0.271174  0.125    0.0  0.014151\n",
            "1     0.001124       1.0     0.0  0.472229  0.125    0.0  0.139136\n",
            "2     0.002247       1.0     1.0  0.321438  0.000    0.0  0.015469\n",
            "3     0.003371       1.0     0.0  0.434531  0.125    0.0  0.103644\n",
            "4     0.004494       0.0     1.0  0.434531  0.000    0.0  0.015713\n"
          ]
        }
      ]
    }
  ]
}